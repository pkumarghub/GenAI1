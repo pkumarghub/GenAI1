{
 "cells": [
  {
   "cell_type": "code",
   "execution_count": null,
   "id": "3dfa22b3",
   "metadata": {},
   "outputs": [
    {
     "data": {
      "text/plain": [
       "[Document(metadata={'source': 'data.txt'}, page_content='I have a dream that my four little children will one day live in a nation where they will not be judged by \\nthe color of their skin but by the content of their character')]"
      ]
     },
     "execution_count": 2,
     "metadata": {},
     "output_type": "execute_result"
    }
   ],
   "source": [
    "#Data Ingestion     w1aq    `1q`\n",
    "from langchain_community.document_loaders import TextLoader\n",
    "loder=TextLoader(\"data.txt\")\n",
    "text_documents=loder.load()\n",
    "text_documents"
   ]
  },
  {
   "cell_type": "code",
   "execution_count": 4,
   "id": "e2d8e0be",
   "metadata": {},
   "outputs": [
    {
     "data": {
      "text/plain": [
       "[Document(metadata={'producer': 'Skia/PDF m127', 'creator': 'Chromium', 'creationdate': '2025-08-08T12:07:58+00:00', 'moddate': '2025-08-08T12:07:58+00:00', 'source': 'data.pdf', 'total_pages': 3, 'page': 0, 'page_label': '1'}, page_content='Create a detailed road map to achieve this\\nOf course. Here is a detailed roadmap to help you prepare for the AWS Certified Developer -\\nAssociate exam. This plan is designed to be interactive. For each topic, I will ask you questions,\\nand if you make a mistake, I will provide corrections and explanations.\\nThe exam is broken down into four main domains. We will tackle them one by one.\\nDomain 1\\x00 Development with AWS Services \\x0032% of Exam)\\nThis is the largest portion of the exam, focusing on how to develop applications using core AWS\\nservices.\\nI am a software developer and I am preparing for\\n\"AWS Certified Developer Associate\". I want to\\nuse perplexity to prepare for the exams. I have the\\nfollowing goals\\n\\x00\\x00\\x00Prepare for each topic that is asked in the exam\\n\\x00\\x00\\x00I want perplexity to ask me questions on each topic, and I will answer. If I make any mistake,\\ncorrect it and explain.\\nRoadmap for AWS Certified Developer - Associate Exam Preparation\\nTopic 1\\x00 Core AWS Services \\x00Compute, Storage, & Database)\\nInteractive Session 1\\x00 Compute Services: We\\'ll start with Amazon EC2 \\x00Elastic\\nCompute Cloud), AWS Lambda, and AWS Elastic Beanstalk. I\\'ll ask you about their use\\ncases, how to configure them, and best practices for deploying applications.\\nInteractive Session 2\\x00 Storage Services: We will cover Amazon S3 \\x00Simple Storage\\nService) and Amazon EBS \\x00Elastic Block Store). Our questions will focus on storage\\nclasses, performance, and security.\\nInteractive Session 3\\x00 Database Services: This session will cover Amazon RDS\\n\\x00Relational Database Service) and Amazon DynamoDB. We\\'ll explore data models, when\\nto use each service, and how to interact with them programmatically.\\nTopic 2\\x00 Serverless Application Development\\nInteractive Session 4\\x00 Amazon API Gateway: I will present scenarios for building\\nRESTful APIs and ask you how to use API Gateway, including integrations with AWS\\nLambda.'),\n",
       " Document(metadata={'producer': 'Skia/PDF m127', 'creator': 'Chromium', 'creationdate': '2025-08-08T12:07:58+00:00', 'moddate': '2025-08-08T12:07:58+00:00', 'source': 'data.pdf', 'total_pages': 3, 'page': 1, 'page_label': '2'}, page_content=\"Domain 2\\x00 Security \\x0026% of Exam)\\nSecurity is critical in the cloud. This domain covers how to secure your applications and data.\\nDomain 3\\x00 Deployment \\x0022% of Exam)\\nThis domain focuses on deploying your applications to AWS.\\nDomain 4\\x00 Troubleshooting and Optimization \\x0020% of Exam)\\nThe final domain covers how to monitor, debug, and optimize your AWS applications.\\nInteractive Session 5\\x00 AWS Lambda: We'll dive deep into writing, deploying, and\\nmanaging Lambda functions. Questions will cover event sources, execution roles \\x00IAM\\x00,\\nand performance optimization.\\nInteractive Session 6\\x00 AWS Step Functions: I'll give you a complex workflow, and you'll\\nneed to explain how to orchestrate it using Step Functions.\\nTopic 3\\x00 Interacting with AWS Services\\nInteractive Session 7\\x00 AWS SDKs: I'll ask you to describe how you would use an AWS\\nSDK (like Boto3 for Python or the AWS SDK for Java) to perform tasks with services like\\nS3 or SQS \\x00Simple Queue Service).\\nInteractive Session 8\\x00 AWS CLI\\x00 I will give you common operational tasks and ask you\\nto provide the appropriate AWS Command Line Interface \\x00CLI) commands.\\nTopic 4\\x00 Identity and Access Management \\x00IAM\\x00\\nInteractive Session 9\\x00 IAM Roles, Policies, and Users: I'll provide you with application\\nscenarios, and you will need to define the most secure and appropriate IAM roles and\\npolicies.\\nTopic 5\\x00 Securing Applications and Data\\nInteractive Session 10\\x00 Encryption: We will discuss AWS KMS \\x00Key Management\\nService), comparing client-side vs. server-side encryption, and how to protect data at\\nrest and in transit.\\nInteractive Session 11\\x00 Secure Credential Handling: I'll ask about best practices for\\nmanaging credentials in your code, using services like AWS Secrets Manager and AWS\\nSystems Manager Parameter Store.\\nTopic 6\\x00 CI/CD \\x00Continuous Integration/Continuous Deployment)\\nInteractive Session 12\\x00 AWS CI/CD Tools: We'll cover AWS CodeCommit, AWS\\nCodeBuild, AWS CodeDeploy, and AWS CodePipeline. I'll ask you to design a simple\\nCI/CD pipeline.\\nTopic 7\\x00 Infrastructure as Code \\x00IaC\\x00\\nInteractive Session 13\\x00 AWS CloudFormation and AWS SAM\\x00 I will give you application\\nrequirements, and you will describe the structure of a CloudFormation or SAM\\n\\x00Serverless Application Model) template to provision the necessary resources.\\nTopic 8\\x00 Monitoring and Debugging\\nInteractive Session 14\\x00 Amazon CloudWatch and AWS X\\x00Ray: I'll describe a failing\\napplication, and you'll explain how to use CloudWatch Logs, Metrics, and X\\x00Ray to find\"),\n",
       " Document(metadata={'producer': 'Skia/PDF m127', 'creator': 'Chromium', 'creationdate': '2025-08-08T12:07:58+00:00', 'moddate': '2025-08-08T12:07:58+00:00', 'source': 'data.pdf', 'total_pages': 3, 'page': 2, 'page_label': '3'}, page_content=\"Now that the roadmap is laid out, we can begin.\\nAre you ready to start with Domain 1, Topic 1\\x00 Core AWS Services? We'll begin with our first\\ninteractive session on Compute Services.\\nthe root cause.\\nTopic 9\\x00 Application Optimization\\nInteractive Session 15\\x00 Performance and Cost Optimization: I will present an\\napplication architecture and ask you to identify potential performance bottlenecks and\\nopportunities for cost savings.\")]"
      ]
     },
     "execution_count": 4,
     "metadata": {},
     "output_type": "execute_result"
    }
   ],
   "source": [
    "#PDF Loader\n",
    "from langchain_community.document_loaders import PyPDFLoader\n",
    "pdf_loader = PyPDFLoader(\"data.pdf\")\n",
    "pdf_documents = pdf_loader.load()\n",
    "pdf_documents"
   ]
  },
  {
   "cell_type": "code",
   "execution_count": 5,
   "id": "990b2b05",
   "metadata": {},
   "outputs": [
    {
     "data": {
      "text/plain": [
       "[Document(metadata={'producer': 'Skia/PDF m127', 'creator': 'Chromium', 'creationdate': '2025-08-08T12:07:58+00:00', 'moddate': '2025-08-08T12:07:58+00:00', 'source': 'data.pdf', 'total_pages': 3, 'page': 0, 'page_label': '1'}, page_content=\"\\x00\\x00\\x00I want perplexity to ask me questions on each topic, and I will answer. If I make any mistake,\\ncorrect it and explain.\\nRoadmap for AWS Certified Developer - Associate Exam Preparation\\nTopic 1\\x00 Core AWS Services \\x00Compute, Storage, & Database)\\nInteractive Session 1\\x00 Compute Services: We'll start with Amazon EC2 \\x00Elastic\\nCompute Cloud), AWS Lambda, and AWS Elastic Beanstalk. I'll ask you about their use\\ncases, how to configure them, and best practices for deploying applications.\\nInteractive Session 2\\x00 Storage Services: We will cover Amazon S3 \\x00Simple Storage\\nService) and Amazon EBS \\x00Elastic Block Store). Our questions will focus on storage\\nclasses, performance, and security.\\nInteractive Session 3\\x00 Database Services: This session will cover Amazon RDS\\n\\x00Relational Database Service) and Amazon DynamoDB. We'll explore data models, when\\nto use each service, and how to interact with them programmatically.\\nTopic 2\\x00 Serverless Application Development\")]"
      ]
     },
     "execution_count": 5,
     "metadata": {},
     "output_type": "execute_result"
    }
   ],
   "source": [
    "from langchain.text_splitter import RecursiveCharacterTextSplitter\n",
    "text_splitter = RecursiveCharacterTextSplitter(\n",
    "    chunk_size=1000, chunk_overlap=200)\n",
    "documents = text_splitter.split_documents(pdf_documents)\n",
    "documents[1:2]"
   ]
  },
  {
   "cell_type": "code",
   "execution_count": 6,
   "id": "469da935",
   "metadata": {},
   "outputs": [],
   "source": [
    "import os\n",
    "from dotenv import load_dotenv\n",
    "load_dotenv()\n",
    "\n",
    "os.environ['GOOGLE_API_KEY']=os.getenv(\"GOOGLE_API_KEY\")"
   ]
  },
  {
   "cell_type": "code",
   "execution_count": 8,
   "id": "56b3f2db",
   "metadata": {},
   "outputs": [
    {
     "data": {
      "text/plain": [
       "[Document(metadata={'source': 'https://lilianweng.github.io/posts/2023-06-23-agent/'}, page_content='\\n      LLM Powered Autonomous Agents\\n    Date: June 23, 2023  |  Estimated Reading Time: 31 min  |  Author: Lilian Weng\\n\\n')]"
      ]
     },
     "execution_count": 8,
     "metadata": {},
     "output_type": "execute_result"
    }
   ],
   "source": [
    "#Web Page loader\n",
    "from langchain_community.document_loaders import WebBaseLoader\n",
    "import bs4\n",
    "loader = WebBaseLoader(\n",
    "    web_path=(\"https://lilianweng.github.io/posts/2023-06-23-agent/\"),\n",
    "    bs_kwargs=dict(parse_only=bs4.SoupStrainer(\n",
    "        class_=(\"post-title\", \"post-meta\")\n",
    "    ))\n",
    ")\n",
    "text_documents = loader.load()\n",
    "text_documents"
   ]
  },
  {
   "cell_type": "code",
   "execution_count": null,
   "id": "45add1e8",
   "metadata": {},
   "outputs": [
    {
     "data": {
      "text/plain": [
       "'Create a detailed road map to achieve this\\nOf course. Here is a detailed roadmap to help you prepare for the AWS Certified Developer -\\nAssociate exam. This plan is designed to be interactive. For each topic, I will ask you questions,\\nand if you make a mistake, I will provide corrections and explanations.\\nThe exam is broken down into four main domains. We will tackle them one by one.\\nDomain 1\\x00 Development with AWS Services \\x0032% of Exam)\\nThis is the largest portion of the exam, focusing on how to develop applications using core AWS\\nservices.\\nI am a software developer and I am preparing for\\n\"AWS Certified Developer Associate\". I want to\\nuse perplexity to prepare for the exams. I have the\\nfollowing goals\\n\\x00\\x00\\x00Prepare for each topic that is asked in the exam\\n\\x00\\x00\\x00I want perplexity to ask me questions on each topic, and I will answer. If I make any mistake,\\ncorrect it and explain.\\nRoadmap for AWS Certified Developer - Associate Exam Preparation\\nTopic 1\\x00 Core AWS Services \\x00Compute, Storage, & Database)\\nInteractive Session 1\\x00 Compute Services: We\\'ll start with Amazon EC2 \\x00Elastic\\nCompute Cloud), AWS Lambda, and AWS Elastic Beanstalk. I\\'ll ask you about their use\\ncases, how to configure them, and best practices for deploying applications.\\nInteractive Session 2\\x00 Storage Services: We will cover Amazon S3 \\x00Simple Storage\\nService) and Amazon EBS \\x00Elastic Block Store). Our questions will focus on storage\\nclasses, performance, and security.\\nInteractive Session 3\\x00 Database Services: This session will cover Amazon RDS\\n\\x00Relational Database Service) and Amazon DynamoDB. We\\'ll explore data models, when\\nto use each service, and how to interact with them programmatically.\\nTopic 2\\x00 Serverless Application Development\\nInteractive Session 4\\x00 Amazon API Gateway: I will present scenarios for building\\nRESTful APIs and ask you how to use API Gateway, including integrations with AWS\\nLambda.'"
      ]
     },
     "execution_count": 10,
     "metadata": {},
     "output_type": "execute_result"
    }
   ],
   "source": [
    "#Vector embedding and Vector Store\n",
    "\n",
    "from langchain_google_genai import GoogleGenerativeAIEmbeddings\n",
    "from langchain_community.vectorstores import Chroma\n",
    "\n",
    "# Initialize the embeddings model\n",
    "embeddings = GoogleGenerativeAIEmbeddings(model=\"models/gemini-embedding-001\")\n",
    "\n",
    "db = Chroma.from_documents(pdf_documents[:20], embeddings)\n",
    "\n",
    "#vector DB\n",
    "query=\"List all the domains mentioned in the document\"\n",
    "result = db.similarity_search(query)\n",
    "result[0].page_content"
   ]
  },
  {
   "cell_type": "code",
   "execution_count": null,
   "id": "936b211a",
   "metadata": {},
   "outputs": [
    {
     "data": {
      "text/plain": [
       "\"Now that the roadmap is laid out, we can begin.\\nAre you ready to start with Domain 1, Topic 1\\x00 Core AWS Services? We'll begin with our first\\ninteractive session on Compute Services.\\nthe root cause.\\nTopic 9\\x00 Application Optimization\\nInteractive Session 15\\x00 Performance and Cost Optimization: I will present an\\napplication architecture and ask you to identify potential performance bottlenecks and\\nopportunities for cost savings.\""
      ]
     },
     "execution_count": 17,
     "metadata": {},
     "output_type": "execute_result"
    }
   ],
   "source": [
    "#FAISS DB\n",
    "\n",
    "from langchain_community.vectorstores import FAISS\n",
    "db1 = FAISS.from_documents(pdf_documents[:20], embeddings)\n",
    "\n",
    "#vector DB\n",
    "query=\"List all the domains mentioned in the document\"\n",
    "result = db1.similarity_search(query)\n",
    "result[0].page_content"
   ]
  },
  {
   "cell_type": "code",
   "execution_count": 25,
   "id": "ad04367c",
   "metadata": {},
   "outputs": [
    {
     "data": {
      "text/plain": [
       "Ollama()"
      ]
     },
     "execution_count": 25,
     "metadata": {},
     "output_type": "execute_result"
    }
   ],
   "source": [
    "#Using local ollama and llama2 as the modal\n",
    "from langchain_community.llms import Ollama\n",
    "llm_lama = Ollama(model=\"llama2\")\n",
    "llm_lama"
   ]
  },
  {
   "cell_type": "code",
   "execution_count": 19,
   "id": "d1ab79ec",
   "metadata": {},
   "outputs": [],
   "source": [
    "from langchain_core.prompts import ChatPromptTemplate\n",
    "from langchain_google_genai import ChatGoogleGenerativeAI\n",
    "\n",
    "llm = ChatGoogleGenerativeAI(model=\"gemini-2.0-flash\")\n",
    "\n",
    "# Design ChatPrompt Template\n",
    "\n",
    "prompt = ChatPromptTemplate.from_template(\"\"\"\n",
    "Answer the following question based on the provided context. Think step by step before providing the answer\n",
    "<context>{context}</context>\n",
    "Question: {input} \"\"\")"
   ]
  },
  {
   "cell_type": "code",
   "execution_count": 20,
   "id": "fedf02c7",
   "metadata": {},
   "outputs": [
    {
     "data": {
      "text/plain": [
       "VectorStoreRetriever(tags=['FAISS', 'GoogleGenerativeAIEmbeddings'], vectorstore=<langchain_community.vectorstores.faiss.FAISS object at 0x000001D5531EA850>, search_kwargs={})"
      ]
     },
     "execution_count": 20,
     "metadata": {},
     "output_type": "execute_result"
    }
   ],
   "source": [
    "##Chain Introduction\n",
    "##Create stuff document Chain\n",
    "from langchain.chains.combine_documents import create_stuff_documents_chain\n",
    "document_chain = create_stuff_documents_chain(llm, prompt)\n",
    "\n",
    "#retriver\n",
    "\n",
    "retriver = db1.as_retriever()\n",
    "retriver\n"
   ]
  },
  {
   "cell_type": "code",
   "execution_count": null,
   "id": "167ea542",
   "metadata": {},
   "outputs": [
    {
     "data": {
      "text/plain": [
       "'The provided context is about preparing for the AWS Certified Developer - Associate exam. It doesn\\'t contain any information about the movie \"Kuch Kuch Hota Hai\". Therefore, I cannot answer your question about the actors in that movie based on this context.'"
      ]
     },
     "execution_count": 22,
     "metadata": {},
     "output_type": "execute_result"
    }
   ],
   "source": [
    "#retrival Chain\n",
    "\n",
    "from langchain.chains import create_retrieval_chain\n",
    "retrival_chain = create_retrieval_chain(retriver, document_chain)\n",
    "response = retrival_chain.invoke({\"input\": \"list all the domains from the document\"})\n",
    "response[\"answer\"]"
   ]
  }
 ],
 "metadata": {
  "kernelspec": {
   "display_name": "venv",
   "language": "python",
   "name": "python3"
  },
  "language_info": {
   "codemirror_mode": {
    "name": "ipython",
    "version": 3
   },
   "file_extension": ".py",
   "mimetype": "text/x-python",
   "name": "python",
   "nbconvert_exporter": "python",
   "pygments_lexer": "ipython3",
   "version": "3.13.5"
  }
 },
 "nbformat": 4,
 "nbformat_minor": 5
}
