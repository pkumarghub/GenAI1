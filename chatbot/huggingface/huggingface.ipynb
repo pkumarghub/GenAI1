{
 "cells": [
  {
   "cell_type": "code",
   "execution_count": null,
   "id": "b4fa504b",
   "metadata": {},
   "outputs": [],
   "source": [
    "################ Faulty Code ################\n",
    "\n",
    "from langchain_community.document_loaders import PyPDFLoader\n",
    "from langchain_community.document_loaders import PyPDFDirectoryLoader\n",
    "from langchain.text_splitter import RecursiveCharacterTextSplitter\n",
    "from langchain.vectorstores import FAISS\n",
    "from langchain_community.embeddings import HuggingFaceEmbeddings\n",
    "from langchain.prompts import PromptTemplate\n",
    "from langchain.chains import RetrievalQA"
   ]
  },
  {
   "cell_type": "code",
   "execution_count": 3,
   "id": "968010a9",
   "metadata": {},
   "outputs": [
    {
     "data": {
      "text/plain": [
       "Document(metadata={'producer': 'Adobe PDF Library 17.0', 'creator': 'Adobe InDesign 18.2 (Windows)', 'creationdate': '2023-09-09T07:52:17-04:00', 'author': 'U.S. Census Bureau', 'keywords': 'acsbr-015', 'moddate': '2023-09-12T14:44:47+01:00', 'title': 'Health Insurance Coverage Status and Type by Geography: 2021 and 2022', 'trapped': '/false', 'source': 'us_census\\\\acsbr-015.pdf', 'total_pages': 18, 'page': 0, 'page_label': '1'}, page_content='Health Insurance Coverage Status and Type \\nby Geography: 2021 and 2022\\nAmerican Community Survey Briefs\\nACSBR-015\\nIssued September 2023\\nDouglas Conway and Breauna Branch\\nINTRODUCTION\\nDemographic shifts as well as economic and govern-\\nment policy changes can affect people’s access to \\nhealth coverage. For example, between 2021 and 2022, \\nthe labor market continued to improve, which may \\nhave affected private coverage in the United States \\nduring that time.\\n1 Public policy changes included \\nthe renewal of the Public Health Emergency, which \\nallowed Medicaid enrollees to remain covered under \\nthe Continuous Enrollment Provision.\\n2 The American \\nRescue Plan (ARP) enhanced Marketplace premium \\nsubsidies for those with incomes above 400 percent \\nof the poverty level as well as for unemployed people.\\n3\\nIn addition to national policies, individual states and \\nthe District of Columbia can affect health insurance \\ncoverage by making Marketplace or Medicaid more')"
      ]
     },
     "execution_count": 3,
     "metadata": {},
     "output_type": "execute_result"
    }
   ],
   "source": [
    "##Reading PDF\n",
    "loader = PyPDFDirectoryLoader(\"./us_census\")\n",
    "documents = loader.load()\n",
    "\n",
    "text_splitter = RecursiveCharacterTextSplitter(chunk_size=1000, chunk_overlap=200)\n",
    "final_documents = text_splitter.split_documents(documents)\n",
    "\n",
    "final_documents[0]"
   ]
  },
  {
   "cell_type": "code",
   "execution_count": 4,
   "id": "c4ee1f27",
   "metadata": {},
   "outputs": [
    {
     "name": "stderr",
     "output_type": "stream",
     "text": [
      "C:\\Users\\hp\\AppData\\Local\\Temp\\ipykernel_29088\\1218065419.py:2: LangChainDeprecationWarning: The class `HuggingFaceEmbeddings` was deprecated in LangChain 0.2.2 and will be removed in 1.0. An updated version of the class exists in the :class:`~langchain-huggingface package and should be used instead. To use it run `pip install -U :class:`~langchain-huggingface` and import as `from :class:`~langchain_huggingface import HuggingFaceEmbeddings``.\n",
      "  huggingface_embeddings = HuggingFaceEmbeddings(\n"
     ]
    }
   ],
   "source": [
    "## Embedding Using Huggingface\n",
    "huggingface_embeddings = HuggingFaceEmbeddings(\n",
    "    model_name=\"BAAI/bge-small-en-v1.5\",\n",
    "    model_kwargs={'device':\"cpu\"},\n",
    "    encode_kwargs={'normalize_embeddings': True}\n",
    ")"
   ]
  },
  {
   "cell_type": "code",
   "execution_count": 5,
   "id": "c6ba3f97",
   "metadata": {},
   "outputs": [
    {
     "name": "stdout",
     "output_type": "stream",
     "text": [
      "[-8.30601528e-02 -1.45066706e-02 -2.10276805e-02  2.72682551e-02\n",
      "  4.53647189e-02  5.28341383e-02 -2.53759213e-02  3.61304022e-02\n",
      " -9.08312425e-02 -2.77017597e-02  7.97397718e-02  6.42474815e-02\n",
      " -3.54004018e-02 -4.04245928e-02 -1.13772415e-02  4.45296019e-02\n",
      " -3.88542423e-03 -3.79060814e-03 -4.54510413e-02  2.67046951e-02\n",
      " -2.05681641e-02  2.87432466e-02 -2.41201185e-02 -3.69412303e-02\n",
      "  1.92781053e-02  1.06194559e-02  3.21826804e-03  2.33249855e-03\n",
      " -4.29321602e-02 -1.64999202e-01  2.77008908e-03  2.68276669e-02\n",
      " -4.12894525e-02 -1.88446585e-02  1.58918444e-02  9.22320783e-03\n",
      " -2.00687721e-02  8.16561431e-02  3.89413126e-02  5.52223213e-02\n",
      " -3.69984470e-02  1.75319053e-02 -1.28966765e-02  2.80639302e-04\n",
      " -2.51580607e-02  4.59338212e-03 -2.39579398e-02 -5.76566067e-03\n",
      "  6.02950901e-03 -3.61178257e-02  3.84415649e-02 -1.75470242e-03\n",
      "  5.05656376e-02  6.02408908e-02  4.52067964e-02 -4.91435081e-02\n",
      "  1.82053987e-02 -1.46668749e-02 -2.53130775e-02  3.18243764e-02\n",
      "  5.15598208e-02 -9.32342932e-03 -2.61889189e-01  1.00012705e-01\n",
      "  1.34969018e-02  4.36563902e-02 -6.08389778e-03 -4.54130769e-03\n",
      " -3.26450057e-02 -4.28530686e-02 -5.28033972e-02  4.51760441e-02\n",
      " -4.90110479e-02  1.14362799e-02  3.36463414e-02  2.09723953e-02\n",
      "  1.38647510e-02  5.93803870e-03  1.49723198e-02 -8.11347365e-03\n",
      "  1.01395240e-02  2.79460363e-02 -6.45076064e-03 -4.83987033e-02\n",
      "  4.86141853e-02 -8.64626691e-02  5.24354018e-02 -3.35655734e-02\n",
      "  3.21200825e-02 -3.52678485e-02 -3.55471671e-02  1.33936852e-02\n",
      " -2.35933042e-03  3.77090462e-02  6.75867544e-03  3.44191976e-02\n",
      " -5.24614751e-03 -8.69452208e-03 -1.43432459e-02  3.42605829e-01\n",
      " -2.61229891e-02  9.80758201e-03 -2.25788597e-02  8.17074534e-03\n",
      " -9.10547469e-03 -6.63615912e-02 -3.31284595e-03  3.76491598e-03\n",
      "  1.78496242e-02  1.94206070e-02  1.89167894e-02 -2.34019924e-02\n",
      "  1.70286112e-02  3.59937809e-02 -5.00386134e-02 -2.86068190e-02\n",
      "  3.76006179e-02  1.95080508e-02  9.70121920e-02 -2.35506743e-02\n",
      " -5.60349831e-03  4.08104695e-02 -1.22214975e-02 -4.84442711e-02\n",
      "  1.59177911e-02  7.82315060e-02  5.22117428e-02  1.41182363e-01\n",
      "  3.60795483e-02 -3.56155671e-02  1.04116328e-01 -4.85004149e-02\n",
      " -9.04251076e-03 -3.47389403e-04 -3.86384549e-03  1.05186775e-02\n",
      " -1.18664093e-02  4.76750880e-02 -1.44308424e-02  4.32956703e-02\n",
      "  1.39372135e-02 -9.43204854e-03 -3.39476974e-03 -1.30119070e-01\n",
      " -2.24878453e-02  1.85143054e-01 -3.77383307e-02  4.94089536e-02\n",
      "  1.73503850e-02 -2.00506728e-02 -4.56999354e-02  6.15431592e-02\n",
      " -3.38922366e-02  3.41244899e-02 -3.52289192e-02  2.25264356e-02\n",
      " -3.88037506e-03  2.96608750e-02 -3.23118418e-02 -5.61317056e-02\n",
      "  5.52870743e-02 -3.27033550e-02 -4.70694751e-02  1.33565841e-02\n",
      "  4.41281162e-02 -2.02731676e-02 -1.62062570e-02 -5.46822585e-02\n",
      "  2.79455371e-02  9.90037154e-03  1.44527871e-02  5.46371378e-02\n",
      "  2.29170397e-02 -2.23384723e-02  9.18255672e-02  2.43631750e-02\n",
      " -3.52479704e-02 -8.27399734e-03 -5.45691233e-03 -5.42016886e-02\n",
      " -5.69420354e-03 -2.11966150e-02 -5.15157543e-02 -4.83904667e-02\n",
      " -1.58691984e-02 -3.49855796e-02 -6.40029386e-02  4.69647497e-02\n",
      "  5.08957803e-02 -1.47770494e-02 -2.62468099e-03  9.61366203e-03\n",
      " -5.30826077e-02  3.27618644e-02 -1.20410724e-02  1.89258158e-03\n",
      " -6.53932840e-02 -2.97078006e-02  4.61532436e-02 -3.11540235e-02\n",
      " -3.44942696e-02  2.73555033e-02  1.33986278e-02 -1.12299882e-02\n",
      " -5.48380241e-03  1.20181618e-02  3.20996493e-02 -7.33809918e-02\n",
      "  4.33214456e-02 -1.46466969e-02 -6.26263814e-03  4.07446101e-02\n",
      "  2.55041886e-02  1.34792202e-03  3.32123227e-02  2.35810727e-02\n",
      "  1.29890330e-02 -2.96592414e-02  9.96631337e-04  3.23757790e-02\n",
      "  3.47310454e-02  7.43661225e-02  8.83725658e-02 -2.74852723e-01\n",
      " -5.02360892e-03  6.73113344e-03  5.10841981e-03 -7.25276768e-02\n",
      " -5.16856313e-02 -3.50604132e-02  2.54639015e-02  5.96714066e-03\n",
      "  9.32260007e-02  6.52372465e-02 -1.24274530e-02 -2.26455219e-02\n",
      "  1.03852801e-01  2.69623734e-02 -5.88307902e-02  3.26073878e-02\n",
      " -2.70967446e-02 -1.62646435e-02  3.82240396e-03  1.43365352e-03\n",
      " -1.74209254e-03 -5.87846749e-02 -2.47207549e-06  8.17155093e-02\n",
      " -8.29957600e-04  6.18573800e-02 -5.67797124e-02 -7.95386359e-02\n",
      "  8.72030761e-03 -5.23827337e-02  4.91903499e-02 -1.34030227e-02\n",
      " -1.09614745e-01  6.37905970e-02  1.59761533e-02 -8.35732371e-02\n",
      " -1.80336107e-02 -5.23566976e-02 -2.67080888e-02 -2.57244948e-02\n",
      "  5.58587499e-02 -6.18519150e-02  1.82368997e-02 -1.30652022e-02\n",
      " -5.21241426e-02  4.50306535e-02  6.84901848e-02 -7.28625655e-02\n",
      "  4.47436515e-03  8.44438933e-03 -2.58527659e-02 -2.72554215e-02\n",
      " -8.25333036e-03  2.65438687e-02 -6.06657676e-02 -3.46959308e-02\n",
      "  2.65968926e-02 -1.06718624e-02 -6.09571347e-03  2.14285571e-02\n",
      "  4.35656216e-03  3.98480073e-02 -7.30899628e-03  7.62284850e-04\n",
      " -4.81284559e-02  9.06982552e-03 -2.74650361e-02 -6.46280050e-02\n",
      "  7.81242317e-03  6.36894896e-04  3.72855961e-02 -2.43166871e-02\n",
      " -2.94920448e-02  2.59610228e-02 -2.04743389e-02  2.99484096e-02\n",
      " -3.93521693e-03 -7.24736694e-03 -4.70116548e-02  4.60672863e-02\n",
      " -6.55132458e-02  1.94678176e-02  4.70717885e-02 -4.82357852e-03\n",
      "  1.85413603e-02  1.27155259e-02  9.35988687e-03 -1.63067859e-02\n",
      "  1.78641099e-02 -1.42971789e-02 -1.85641423e-02 -1.11413887e-02\n",
      " -2.76978705e-02 -1.63669384e-03  1.32832546e-02 -2.23142400e-01\n",
      "  5.02430163e-02  3.20568010e-02 -2.58731581e-02  7.37159140e-03\n",
      " -1.69072207e-02 -1.84586961e-02  1.52460793e-02 -1.25951748e-02\n",
      " -1.74231492e-02  4.49848548e-02  8.47080871e-02  1.25501975e-01\n",
      " -1.12586478e-02 -9.03831422e-03 -4.29150509e-03  7.40757734e-02\n",
      " -5.70528721e-03  2.40515303e-02 -4.09415886e-02  5.69055304e-02\n",
      " -6.37594387e-02  1.52565375e-01 -1.74385644e-02  1.57483052e-02\n",
      " -7.21550435e-02 -2.26559676e-02  3.81210558e-02 -4.17390913e-02\n",
      "  1.38446456e-02  1.97877977e-02  1.08575318e-02  1.14633869e-02\n",
      " -1.90664921e-02  6.13894165e-02  4.67911270e-03  1.12024061e-02\n",
      "  4.75128293e-02  4.35525598e-03  3.34494933e-02 -5.18546477e-02\n",
      " -1.82738155e-02  9.24014952e-03  2.57450412e-03  6.83404431e-02\n",
      " -3.80240828e-02 -5.42043447e-02 -7.67753422e-02 -8.67898948e-03\n",
      "  6.64248466e-02  9.31190886e-03 -3.73430476e-02 -2.34101736e-03\n",
      " -5.78063726e-03 -5.70392571e-02 -6.05432270e-03 -5.90126105e-02\n",
      "  3.92625071e-02 -8.48793518e-03 -1.47276875e-02  2.09183749e-02\n",
      "  5.32475449e-02 -7.08249286e-02  1.93986222e-02  6.82188347e-02]\n",
      "(384,)\n"
     ]
    }
   ],
   "source": [
    "import  numpy as np\n",
    "print(np.array(huggingface_embeddings.embed_query(final_documents[0].page_content)))\n",
    "print(np.array(huggingface_embeddings.embed_query(final_documents[0].page_content)).shape)"
   ]
  },
  {
   "cell_type": "code",
   "execution_count": 6,
   "id": "707eca68",
   "metadata": {},
   "outputs": [
    {
     "name": "stdout",
     "output_type": "stream",
     "text": [
      "2 U.S. Census Bureau\n",
      "WHAT IS HEALTH INSURANCE COVERAGE?\n",
      "This brief presents state-level estimates of health insurance coverage \n",
      "using data from the American Community Survey (ACS). The  \n",
      "U.S. Census Bureau conducts the ACS throughout the year; the \n",
      "survey asks respondents to report their coverage at the time of \n",
      "interview. The resulting measure of health insurance coverage, \n",
      "therefore, reflects an annual average of current comprehensive \n",
      "health insurance coverage status.* This uninsured rate measures a \n",
      "different concept than the measure based on the Current Population \n",
      "Survey Annual Social and Economic Supplement (CPS ASEC). \n",
      "For reporting purposes, the ACS broadly classifies health insurance \n",
      "coverage as private insurance or public insurance. The ACS defines \n",
      "private health insurance as a plan provided through an employer \n",
      "or a union, coverage purchased directly by an individual from an \n",
      "insurance company or through an exchange (such as healthcare.\n"
     ]
    }
   ],
   "source": [
    "## VectorStore Creation\n",
    "vectorstore=FAISS.from_documents(final_documents[:120],huggingface_embeddings)\n",
    "\n",
    "## Query using Similarity Search\n",
    "query=\"WHAT IS HEALTH INSURANCE COVERAGE?\"\n",
    "relevant_docments=vectorstore.similarity_search(query)\n",
    "\n",
    "print(relevant_docments[0].page_content)"
   ]
  },
  {
   "cell_type": "code",
   "execution_count": 7,
   "id": "aabd6d33",
   "metadata": {},
   "outputs": [
    {
     "name": "stdout",
     "output_type": "stream",
     "text": [
      "tags=['FAISS', 'HuggingFaceEmbeddings'] vectorstore=<langchain_community.vectorstores.faiss.FAISS object at 0x0000028AE085A3C0> search_kwargs={'k': 3}\n"
     ]
    }
   ],
   "source": [
    "retriever=vectorstore.as_retriever(search_type=\"similarity\",search_kwargs={\"k\":3})\n",
    "print(retriever)"
   ]
  },
  {
   "cell_type": "code",
   "execution_count": 8,
   "id": "0ac84f7d",
   "metadata": {},
   "outputs": [],
   "source": [
    "import os\n",
    "from dotenv import load_dotenv\n",
    "load_dotenv()\n",
    "os.environ['HUGGINGFACEHUB_API_TOKEN']=os.getenv(\"HUGGINGFACEHUB_API_TOKEN\")"
   ]
  },
  {
   "cell_type": "code",
   "execution_count": 12,
   "id": "bef41f63",
   "metadata": {},
   "outputs": [
    {
     "name": "stdout",
     "output_type": "stream",
     "text": [
      "StopIteration error: Model did not return a valid response.\n"
     ]
    }
   ],
   "source": [
    "from langchain_huggingface import HuggingFaceEndpoint\n",
    "import os\n",
    "from langchain_core.prompts import PromptTemplate\n",
    "\n",
    "# Ensure the API token is loaded from environment\n",
    "api_token = os.getenv(\"HUGGINGFACEHUB_API_TOKEN\")\n",
    "if not api_token:\n",
    "    raise ValueError(\"HUGGINGFACEHUB_API_TOKEN is not set in environment variables.\")\n",
    "\n",
    "hf = HuggingFaceEndpoint(\n",
    "    repo_id=\"mistralai/Mistral-7B-v0.1\",\n",
    "    huggingfacehub_api_token=api_token,\n",
    "    temperature=0.1,\n",
    "    # model_kwargs={\"max_length\":500}\n",
    ")\n",
    "\n",
    "question = \"Who won the FIFA World Cup in the year 1994? \"\n",
    "\n",
    "template = \"\"\"Question: {question}\n",
    "\n",
    "Answer: Let's think step by step.\"\"\"\n",
    "\n",
    "prompt = PromptTemplate.from_template(template)\n",
    "\n",
    "llm_chain = prompt | hf\n",
    "\n",
    "query = \"What is the health insurance coverage?\"\n",
    "try:\n",
    "    result = llm_chain.invoke({\"question\": question})\n",
    "    if not result:\n",
    "        print(\"No response received from the model.\")\n",
    "    else:\n",
    "        print(result)\n",
    "except StopIteration:\n",
    "    print(\"StopIteration error: Model did not return a valid response.\")\n",
    "except Exception as e:\n",
    "    print(f\"An error occurred: {e}\")\n"
   ]
  },
  {
   "cell_type": "code",
   "execution_count": 1,
   "id": "c8a1fdcd",
   "metadata": {},
   "outputs": [
    {
     "name": "stderr",
     "output_type": "stream",
     "text": [
      "d:\\Python\\Chatbot\\chatbot1\\venv\\Lib\\site-packages\\tqdm\\auto.py:21: TqdmWarning: IProgress not found. Please update jupyter and ipywidgets. See https://ipywidgets.readthedocs.io/en/stable/user_install.html\n",
      "  from .autonotebook import tqdm as notebook_tqdm\n",
      "Loading checkpoint shards:   0%|          | 0/2 [00:00<?, ?it/s]"
     ]
    },
    {
     "ename": "",
     "evalue": "",
     "output_type": "error",
     "traceback": [
      "\u001b[1;31mThe Kernel crashed while executing code in the current cell or a previous cell. \n",
      "\u001b[1;31mPlease review the code in the cell(s) to identify a possible cause of the failure. \n",
      "\u001b[1;31mClick <a href='https://aka.ms/vscodeJupyterKernelCrash'>here</a> for more info. \n",
      "\u001b[1;31mView Jupyter <a href='command:jupyter.viewOutput'>log</a> for further details."
     ]
    }
   ],
   "source": [
    "#Hugging Face models can be run locally through the HuggingFacePipeline class.\n",
    "from langchain_community.llms.huggingface_pipeline import HuggingFacePipeline\n",
    "\n",
    "hf = HuggingFacePipeline.from_model_id(\n",
    "    model_id=\"mistralai/Mistral-7B-v0.1\",\n",
    "    task=\"text-generation\",\n",
    "    pipeline_kwargs={\"temperature\": 0, \"max_new_tokens\": 300}\n",
    ")\n",
    "\n",
    "llm = hf \n",
    "llm.invoke(query)"
   ]
  },
  {
   "cell_type": "code",
   "execution_count": 1,
   "id": "d23ce2b8",
   "metadata": {},
   "outputs": [
    {
     "ename": "NameError",
     "evalue": "name 'PromptTemplate' is not defined",
     "output_type": "error",
     "traceback": [
      "\u001b[31m---------------------------------------------------------------------------\u001b[39m",
      "\u001b[31mNameError\u001b[39m                                 Traceback (most recent call last)",
      "\u001b[36mCell\u001b[39m\u001b[36m \u001b[39m\u001b[32mIn[1]\u001b[39m\u001b[32m, line 11\u001b[39m\n\u001b[32m      1\u001b[39m prompt_template=\u001b[33m\"\"\"\u001b[39m\n\u001b[32m      2\u001b[39m \u001b[33mUse the following piece of context to answer the question asked.\u001b[39m\n\u001b[32m      3\u001b[39m \u001b[33mPlease try to provide the answer only based on the context\u001b[39m\n\u001b[32m   (...)\u001b[39m\u001b[32m      8\u001b[39m \u001b[33mHelpful Answers:\u001b[39m\n\u001b[32m      9\u001b[39m \u001b[33m \u001b[39m\u001b[33m\"\"\"\u001b[39m\n\u001b[32m---> \u001b[39m\u001b[32m11\u001b[39m prompt=\u001b[43mPromptTemplate\u001b[49m(template=prompt_template,input_variables=[\u001b[33m\"\u001b[39m\u001b[33mcontext\u001b[39m\u001b[33m\"\u001b[39m,\u001b[33m\"\u001b[39m\u001b[33mquestion\u001b[39m\u001b[33m\"\u001b[39m])\n",
      "\u001b[31mNameError\u001b[39m: name 'PromptTemplate' is not defined"
     ]
    }
   ],
   "source": [
    "prompt_template=\"\"\"\n",
    "Use the following piece of context to answer the question asked.\n",
    "Please try to provide the answer only based on the context\n",
    "\n",
    "{context}\n",
    "Question:{question}\n",
    "\n",
    "Helpful Answers:\n",
    " \"\"\"\n",
    "\n",
    "prompt=PromptTemplate(template=prompt_template,input_variables=[\"context\",\"question\"])"
   ]
  },
  {
   "cell_type": "code",
   "execution_count": null,
   "id": "f8117d2d",
   "metadata": {},
   "outputs": [],
   "source": [
    "retrievalQA=RetrievalQA.from_chain_type(\n",
    "    llm=hf,\n",
    "    chain_type=\"stuff\",\n",
    "    retriever=retriever,\n",
    "    return_source_documents=True,\n",
    "    chain_type_kwargs={\"prompt\":prompt}\n",
    ")"
   ]
  },
  {
   "cell_type": "code",
   "execution_count": null,
   "id": "b179da98",
   "metadata": {},
   "outputs": [],
   "source": [
    "query=\"\"\"DIFFERENCES IN THE\n",
    "UNINSURED RATE BY STATE\n",
    "IN 2022\"\"\"\n",
    "\n",
    "# Call the QA chain with our query.\n",
    "result = retrievalQA.invoke({\"query\": query})\n",
    "print(result['result'])"
   ]
  }
 ],
 "metadata": {
  "kernelspec": {
   "display_name": "venv",
   "language": "python",
   "name": "python3"
  },
  "language_info": {
   "codemirror_mode": {
    "name": "ipython",
    "version": 3
   },
   "file_extension": ".py",
   "mimetype": "text/x-python",
   "name": "python",
   "nbconvert_exporter": "python",
   "pygments_lexer": "ipython3",
   "version": "3.13.5"
  }
 },
 "nbformat": 4,
 "nbformat_minor": 5
}
